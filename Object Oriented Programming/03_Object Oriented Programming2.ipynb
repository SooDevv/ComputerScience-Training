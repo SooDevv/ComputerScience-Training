{
 "cells": [
  {
   "cell_type": "markdown",
   "metadata": {},
   "source": [
    "## 객체 지향으로 다시 만드는 학급 성적 평가 프로그램"
   ]
  },
  {
   "cell_type": "markdown",
   "metadata": {},
   "source": [
    "### Stat 클래스\n",
    "통계와 관련 있는 함수만 따로 분리해 클래스로 만든다"
   ]
  },
  {
   "cell_type": "code",
   "execution_count": 21,
   "metadata": {},
   "outputs": [],
   "source": [
    "import math\n",
    "\n",
    "class Stat:\n",
    "    def average(self, scores):\n",
    "        s = 0\n",
    "        for score in scores:\n",
    "            s += score\n",
    "        return round(s/len(scores), 1)\n",
    "    \n",
    "    def variance(self, scores, avrg):\n",
    "        s = 0\n",
    "        for score in scores:\n",
    "            s += (score - avrg) ** 2\n",
    "        return round(s/len(scores), 1)\n",
    "    \n",
    "    def std_dev(self, variance):\n",
    "        return round(math.sqrt(variance), 1)"
   ]
  },
  {
   "cell_type": "markdown",
   "metadata": {},
   "source": [
    "### DataHandler 클래스\n",
    "- Load Data from file\n",
    "- 데이터를 연산하고 관리하는 클래스"
   ]
  },
  {
   "cell_type": "code",
   "execution_count": 28,
   "metadata": {},
   "outputs": [],
   "source": [
    "from statistics import *\n",
    "import openpyxl\n",
    "\n",
    "class DataHandler:\n",
    "    evaluator = Stat()\n",
    "    \n",
    "    @classmethod\n",
    "    def get_data_from_excel(cls, filename):\n",
    "        dic = {}\n",
    "        wb = openpyxl.load_workbook(filename)\n",
    "        ws = wb.active\n",
    "        g = ws.rows\n",
    "        \n",
    "        for name, score in g:\n",
    "            dic[name.value] = score.value\n",
    "            \n",
    "        return dic\n",
    "    \n",
    "    def __init__(self, filename, year_class):\n",
    "        self.rawdata = DataHandler.get_data_from_excel(filename)\n",
    "        self.year_class = year_class\n",
    "        # 연산 값을 저장해 두는 저장소 \n",
    "        self.cache = {}\n",
    "        \n",
    "    def get_scores(self):\n",
    "        if 'scores' not in self.cache:\n",
    "            self.cache['scores'] = list(self.rawdata.values())\n",
    "        \n",
    "        return self.cache.get('scores')\n",
    "    \n",
    "    def get_average(self):\n",
    "        if 'average' not in self.cache:\n",
    "            self.cache['average'] = self.evaluator.average(self.get_scores())\n",
    "            \n",
    "        return self.cache.get('average')\n",
    "    \n",
    "    def get_variance(self):\n",
    "        if 'variance' not in self.cache:\n",
    "            self.cache['variance'] = self.evaluator.variance(self.get_scores(), self.get_average())\n",
    "            \n",
    "        return self.cache.get('variance')\n",
    "    \n",
    "    def get_standard_deviation(self):\n",
    "        if \"standard_deviation\" not in self.cache:\n",
    "            self.cache[\"standard_deviation\"] = self.evaluator.std_dev(\n",
    "                self.get_variance())\n",
    "\n",
    "        return self.cache.get(\"standard_deviation\") \n",
    "    \n",
    "    def evalute_class(self, total_avg, sd):\n",
    "        avg = self.get_average()\n",
    "        std_dev = self.get_standard_deviation()\n",
    "        \n",
    "        if avg < total_avg and std_dev > sd:\n",
    "            print('성적이 너무 저조하고 학생들의 실력 차이가 너무 크다')\n",
    "        elif avg > total_avg and std_dev > sd:\n",
    "            print('[WARNING] 성적은 평균 이상이지만 학생들의 실력 차이가 크다.')\n",
    "        elif avg < total_avg and std_dev < sd:\n",
    "            print('학생들의 실력은 비슷하나 평균이 너무 낮음')\n",
    "        elif avg > total_avg and std_dev < sd:\n",
    "            print('애들 다 잘함. 걱정 없다!')\n",
    "        \n",
    "    def get_evaluation(self, total_avg, sd =20):\n",
    "        print('='*50)\n",
    "        print('{} 반 성적 분석 결과'.format(self.year_class))\n",
    "        print(\n",
    "        \"{0} 반 \\n평균 : {1} \\n분산 : {2}, \\n표준편차 : {3}\"\n",
    "            .format(self.year_class,\n",
    "                   self.get_average(),\n",
    "                   self.get_variance(),\n",
    "                   self.get_standard_deviation()))\n",
    "        print('='*50)\n",
    "        print('{}반 종합 평가'.format(self.year_class))\n",
    "        print('-'*50)\n",
    "        self.evalute_class(total_avg, sd)\n",
    "        "
   ]
  },
  {
   "cell_type": "code",
   "execution_count": 33,
   "metadata": {},
   "outputs": [
    {
     "name": "stdout",
     "output_type": "stream",
     "text": [
      "==================================================\n",
      "6-6 반 성적 분석 결과\n",
      "6-6 반 \n",
      "평균 : 51.5 \n",
      "분산 : 1240.2, \n",
      "표준편차 : 35.2\n",
      "==================================================\n",
      "6-6반 종합 평가\n",
      "--------------------------------------------------\n",
      "[WARNING] 성적은 평균 이상이지만 학생들의 실력 차이가 크다.\n"
     ]
    }
   ],
   "source": [
    "dh = DataHandler('class1.xlsx', '6-6')\n",
    "dh.get_evaluation(50)"
   ]
  },
  {
   "cell_type": "code",
   "execution_count": null,
   "metadata": {},
   "outputs": [],
   "source": []
  }
 ],
 "metadata": {
  "kernelspec": {
   "display_name": "Python 3",
   "language": "python",
   "name": "python3"
  },
  "language_info": {
   "codemirror_mode": {
    "name": "ipython",
    "version": 3
   },
   "file_extension": ".py",
   "mimetype": "text/x-python",
   "name": "python",
   "nbconvert_exporter": "python",
   "pygments_lexer": "ipython3",
   "version": "3.6.6"
  }
 },
 "nbformat": 4,
 "nbformat_minor": 2
}
