{
 "cells": [
  {
   "cell_type": "markdown",
   "metadata": {},
   "source": [
    "## 연결 리스트(linked list) 구현\n",
    "- 데이터와 참조로 구성된 노드가 한 방향 혹은 양방향으로 쭉 이어져 있는 자료 구조.\n",
    "- 참조는 다음 노드 혹은 이전 노드를 가리킨다"
   ]
  },
  {
   "cell_type": "code",
   "execution_count": 1,
   "metadata": {},
   "outputs": [],
   "source": [
    "class Node:\n",
    "    def __init__(self, data=None):\n",
    "        self.__data = data\n",
    "        self.__next = None\n",
    "    \n",
    "    def __del__(self):\n",
    "        print(\"data of {} is deleted\".format(self.data))\n",
    "    \n",
    "    @property\n",
    "    def data(self):\n",
    "        return self.__data\n",
    "\n",
    "    @data.setter\n",
    "    def data(self, data):\n",
    "        self.__data = data\n",
    "        \n",
    "    @property\n",
    "    def next(self):\n",
    "        return self.__next\n",
    "    \n",
    "    @next.setter\n",
    "    def next(self, n):\n",
    "        self.__next = n"
   ]
  },
  {
   "cell_type": "code",
   "execution_count": 11,
   "metadata": {},
   "outputs": [],
   "source": [
    "class Linked_list:\n",
    "    def __init__(self): # 초기화\n",
    "        self.head = None\n",
    "        self.tail = None\n",
    "        self.d_size = 0\n",
    "    \n",
    "    # 현재 연결리스트 상태 확인\n",
    "    def empty(self):\n",
    "        if self.d_size == 0:\n",
    "            return True\n",
    "        else:\n",
    "            return False\n",
    "    \n",
    "    def size(self):\n",
    "        return self.d_size\n",
    "    \n",
    "    # 데이터 삽입\n",
    "    def append(self, data):\n",
    "        new_node = Node(data)\n",
    "        \n",
    "        if self.empty():\n",
    "            self.head = new_node\n",
    "            self.tail = new_node\n",
    "            self.d_size += 1\n",
    "        else:\n",
    "            self.tail.next = new_node\n",
    "            self.tail = new_node\n",
    "            self.d_size += 1\n",
    "            \n",
    "    # 데이터 검색 --> 2가지 방법\n",
    "    # 1. target, start ==> data, pos\n",
    "    def search_target(self, target, start=0):\n",
    "        if self.empty():\n",
    "            return None\n",
    "        \n",
    "        pos = 0\n",
    "        cur = self.head\n",
    "        \n",
    "        if pos >= start and target == cur.data:\n",
    "            return cur.data, pos\n",
    "        \n",
    "        while cur.next: # cur.next 가 None을 가리킬 때까지\n",
    "            pos += 1\n",
    "            cur = cur.next \n",
    "            if pos >= start and target == cur.data:\n",
    "                return cur.data, pos\n",
    "            \n",
    "        return None, None\n",
    "    \n",
    "    # 2. pos ==> data\n",
    "    def search_pos(self, pos):\n",
    "        if pos > self.size() - 1:\n",
    "            return None\n",
    "        \n",
    "        cnt = 0\n",
    "        cur = self.head\n",
    "        if cnt == pos:\n",
    "            return cur.data\n",
    "        \n",
    "        while cnt < pos: # cnt 와 pos 가 같아질 때 멈춤\n",
    "            cur = cur.next\n",
    "            cnt += 1\n",
    "            \n",
    "        return cur.data\n",
    "    \n",
    "    # 데이터 삭제--> 래퍼런스 카운팅으로 구현\n",
    "    # target ==> data\n",
    "    def remove(self, target):\n",
    "        if self.empty():\n",
    "            return None\n",
    "        \n",
    "        # 이전 노드\n",
    "        bef = self.head\n",
    "        cur = self.head\n",
    "        \n",
    "        #삭제 노드가 첫 번째 노드일 때\n",
    "        if target == cur.data:\n",
    "            # 데이터가 하나일 때\n",
    "            if self.size() == 1:\n",
    "                self.head = None\n",
    "                self.tail = None\n",
    "            else:\n",
    "                # 데이터가 두개 이상일 때\n",
    "                self.head = self.head.next\n",
    "        \n",
    "            self.d_size -= 1\n",
    "            return cur.data  # cur.head를 return \n",
    "    \n",
    "        while cur.next:\n",
    "            bef = cur\n",
    "            cur = cur.next\n",
    "            # 삭제 노드가 첫 번째 노드가 아닐 때\n",
    "            if target == cur.data:\n",
    "                # 삭제 노드가 마지막 노드일 때\n",
    "                if cur == self.tail:\n",
    "                    self.tail = bef\n",
    "                # 일반적인 경우(가운데 있는 경우)\n",
    "                bef.next = cur.next \n",
    "                self.d_size -= 1\n",
    "                return cur.data\n",
    "\n",
    "\n",
    "        return None"
   ]
  },
  {
   "cell_type": "markdown",
   "metadata": {},
   "source": [
    "**테스트 코드**"
   ]
  },
  {
   "cell_type": "code",
   "execution_count": 4,
   "metadata": {},
   "outputs": [],
   "source": [
    "def show_list(slist):\n",
    "    if slist.empty():\n",
    "        print('The list is empty')\n",
    "        return\n",
    "    \n",
    "    for i in range(slist.size()):\n",
    "        print(slist.search_pos(i), end=' ')"
   ]
  },
  {
   "cell_type": "code",
   "execution_count": 5,
   "metadata": {},
   "outputs": [
    {
     "name": "stdout",
     "output_type": "stream",
     "text": [
      "데이터 개수: 0\n",
      "The list is empty\n",
      "\n",
      "데이터 개수: 1\n",
      "2 \n",
      "data of 2 is deleted\n",
      "데이터 개수: 0\n",
      "The list is empty\n",
      "\n"
     ]
    }
   ],
   "source": [
    "if __name__ == \"__main__\":\n",
    "    slist = Linked_list()\n",
    "    print(\"데이터 개수: {}\".format(slist.size()))\n",
    "    show_list(slist)\n",
    "    print()\n",
    "    \n",
    "    # 데이터가 하나일 경우\n",
    "    slist.append(2)\n",
    "    print(\"데이터 개수: {}\".format(slist.size()))\n",
    "    show_list(slist)\n",
    "    print()\n",
    "    \n",
    "    # 데이터가 하나일 경우\n",
    "    # 잘 삭제되는지 확인\n",
    "    if slist.remove(2):\n",
    "        print(\"데이터 개수: {}\".format(slist.size()))\n",
    "        show_list(slist)\n",
    "        print()"
   ]
  },
  {
   "cell_type": "code",
   "execution_count": 14,
   "metadata": {},
   "outputs": [
    {
     "name": "stdout",
     "output_type": "stream",
     "text": [
      "data of 3 is deleted\n",
      "data of 1 is deleted\n",
      "data of 5 is deleted\n",
      "data of 2 is deleted\n",
      "data of 10 is deleted\n",
      "data of 7 is deleted\n",
      "data of 2 is deleted\n"
     ]
    }
   ],
   "source": [
    "slist = []"
   ]
  },
  {
   "cell_type": "markdown",
   "metadata": {},
   "source": [
    "**Remove**"
   ]
  },
  {
   "cell_type": "code",
   "execution_count": 12,
   "metadata": {},
   "outputs": [
    {
     "name": "stdout",
     "output_type": "stream",
     "text": [
      "데이터 개수: 0\n",
      "The list is empty\n",
      "\n",
      "데이터 개수: 7\n",
      "3 1 5 2 10 7 2 \n",
      "data of 2 is deleted\n",
      "데이터 개수: 6\n",
      "3 1 5 10 7 2 \n",
      "data of 2 is deleted\n",
      "데이터 개수: 5\n",
      "3 1 5 10 7 \n"
     ]
    }
   ],
   "source": [
    "if __name__ == \"__main__\":\n",
    "    slist = Linked_list()\n",
    "    print(\"데이터 개수: {}\".format(slist.size()))\n",
    "    show_list(slist)\n",
    "    print()\n",
    "    \n",
    "    slist.append(3)\n",
    "    slist.append(1)\n",
    "    slist.append(5)\n",
    "    slist.append(2)\n",
    "    slist.append(10)\n",
    "    slist.append(7)\n",
    "    slist.append(2)\n",
    "    \n",
    "    print(\"데이터 개수: {}\".format(slist.size()))\n",
    "    show_list(slist)\n",
    "    print()\n",
    "    \n",
    "    if slist.remove(2):\n",
    "        print(\"데이터 개수: {}\".format(slist.size()))\n",
    "        show_list(slist)\n",
    "        print()\n",
    "    else:\n",
    "        print('target Not found')\n",
    "    \n",
    "    if slist.remove(2):\n",
    "        print(\"데이터 개수: {}\".format(slist.size()))\n",
    "        show_list(slist)\n",
    "        print()\n",
    "    else:\n",
    "        print('target Not found')"
   ]
  },
  {
   "cell_type": "markdown",
   "metadata": {},
   "source": [
    "**Search_target**"
   ]
  },
  {
   "cell_type": "code",
   "execution_count": 17,
   "metadata": {},
   "outputs": [
    {
     "name": "stdout",
     "output_type": "stream",
     "text": [
      "data of 3 is deleted\n",
      "data of 1 is deleted\n",
      "data of 5 is deleted\n",
      "data of 2 is deleted\n",
      "data of 10 is deleted\n",
      "data of 7 is deleted\n",
      "data of 2 is deleted\n",
      "데이터 개수: 0\n",
      "The list is empty\n",
      "\n",
      "데이터 개수: 7\n",
      "3 1 5 2 10 7 2 \n",
      "\n",
      "searched data : 2 at pos< 3 >\n",
      "searched data : 2 at pos< 6 >\n"
     ]
    }
   ],
   "source": [
    "if __name__ == \"__main__\":\n",
    "    slist = Linked_list()\n",
    "    print(\"데이터 개수: {}\".format(slist.size()))\n",
    "    show_list(slist)\n",
    "    print()\n",
    "    \n",
    "    slist.append(3)\n",
    "    slist.append(1)\n",
    "    slist.append(5)\n",
    "    slist.append(2)\n",
    "    slist.append(10)\n",
    "    slist.append(7)\n",
    "    slist.append(2)\n",
    "    \n",
    "    print(\"데이터 개수: {}\".format(slist.size()))\n",
    "    show_list(slist)\n",
    "    print('\\n')\n",
    "    \n",
    "    data1, pos1 = slist.search_target(2)\n",
    "    if data1:\n",
    "        print('searched data : {} at pos< {} >'.format(data1, pos1))\n",
    "    else:\n",
    "        print('there is no such data')\n",
    "    \n",
    "    data2, pos2 = slist.search_target(2, pos1+1)\n",
    "    if data2:\n",
    "        print('searched data : {} at pos< {} >'.format(data2, pos2))\n",
    "    else:\n",
    "        print('there is no such data')\n",
    "    "
   ]
  }
 ],
 "metadata": {
  "kernelspec": {
   "display_name": "Python 3",
   "language": "python",
   "name": "python3"
  },
  "language_info": {
   "codemirror_mode": {
    "name": "ipython",
    "version": 3
   },
   "file_extension": ".py",
   "mimetype": "text/x-python",
   "name": "python",
   "nbconvert_exporter": "python",
   "pygments_lexer": "ipython3",
   "version": "3.6.6"
  }
 },
 "nbformat": 4,
 "nbformat_minor": 2
}
