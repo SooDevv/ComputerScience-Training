{
 "cells": [
  {
   "cell_type": "markdown",
   "metadata": {},
   "source": [
    "## 큐(Queue)\n",
    "- FIFO (First In, First Out), 선입선출, 줄서기\n",
    "- 데이터 삽입 : enqueue\n",
    "- 데이터 꺼냄 : dequeue"
   ]
  },
  {
   "cell_type": "code",
   "execution_count": 10,
   "metadata": {},
   "outputs": [],
   "source": [
    "class Queue:\n",
    "    def __init__(self):\n",
    "        self.container = list()\n",
    "    \n",
    "    def enqueue(self, data):\n",
    "        self.container.append(data)\n",
    "    \n",
    "    def dequeue(self):\n",
    "        return self.container.pop(0)\n",
    "    \n",
    "    def empty(self):\n",
    "        if not self.container:\n",
    "            return True\n",
    "        else:\n",
    "            return False\n",
    "    \n",
    "    def peek(self):\n",
    "        return self.container[0]"
   ]
  },
  {
   "cell_type": "code",
   "execution_count": 11,
   "metadata": {},
   "outputs": [
    {
     "name": "stdout",
     "output_type": "stream",
     "text": [
      "1\n",
      "2\n",
      "3\n",
      "4\n",
      "5\n"
     ]
    }
   ],
   "source": [
    "if __name__ == \"__main__\":\n",
    "    q = Queue()\n",
    "    for i in range(1,6):\n",
    "        q.enqueue(i)\n",
    "    \n",
    "    while not q.empty():\n",
    "        print(q.dequeue())"
   ]
  }
 ],
 "metadata": {
  "kernelspec": {
   "display_name": "Python 3",
   "language": "python",
   "name": "python3"
  },
  "language_info": {
   "codemirror_mode": {
    "name": "ipython",
    "version": 3
   },
   "file_extension": ".py",
   "mimetype": "text/x-python",
   "name": "python",
   "nbconvert_exporter": "python",
   "pygments_lexer": "ipython3",
   "version": "3.6.6"
  }
 },
 "nbformat": 4,
 "nbformat_minor": 2
}
