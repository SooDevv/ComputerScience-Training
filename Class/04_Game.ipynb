{
 "cells": [
  {
   "cell_type": "markdown",
   "metadata": {},
   "source": [
    "## Game simulation\n",
    "- 게임 캐릭터 클래스 만들기 : 모든 캐릭터(추상 클래스)는 다음과 같은 특성을 가진다.\n",
    "    * 인스턴스 멤버 : 이름(name), 체력(hp), 공격력(power)\n",
    "    * 인스턴스 메서드 : 공격(attack), 피해(get_damage) - 추상 메서드로 구현 --> 인스턴스에서 오버라이딩 해줘야함\n",
    "- 게임 캐릭터 \n",
    "    * 플레이어\n",
    "    * 몬스터"
   ]
  },
  {
   "cell_type": "markdown",
   "metadata": {},
   "source": [
    "Character Class\n",
    "- 추상 클래스로 구현"
   ]
  },
  {
   "cell_type": "code",
   "execution_count": 22,
   "metadata": {},
   "outputs": [],
   "source": [
    "from abc import *\n",
    "\n",
    "class Character(metaclass = ABCMeta):\n",
    "    def __init__(self, name, hp, power):\n",
    "        self.name = name\n",
    "        self.hp = hp\n",
    "        self.power = power\n",
    "    \n",
    "    # abstract method\n",
    "    # 파생 클래스에서 반드시 overriding 해줘야한다.\n",
    "    @abstractmethod\n",
    "    def attack(self, other, attack_kind):# other에게 attack_kind(공격 스킬) 날림\n",
    "        pass \n",
    "    \n",
    "    @abstractmethod\n",
    "    def get_damage(self, power, attack_kind): # attack_kind(공격 스킬)을 power로 맞음. \n",
    "        pass\n",
    "    \n",
    "    def __str__(self): # print(객체) : 객체의 name 과 hp 상태를 보여줌.\n",
    "        return '{} HP: {}'.format(self.name, self.hp)\n",
    "    "
   ]
  },
  {
   "cell_type": "markdown",
   "metadata": {},
   "source": [
    "Player Class\n",
    "- Game class 상속받아서 추상 메서드 재정의 해줘야함"
   ]
  },
  {
   "cell_type": "code",
   "execution_count": 23,
   "metadata": {},
   "outputs": [],
   "source": [
    "class Player(Character):\n",
    "    def __init__(self, name ='player1', hp=100, power=10, *attack_kinds):\n",
    "        super().__init__(name, hp, power)\n",
    "        # 추가된 인스턴스 멤버\n",
    "        self.skills = []\n",
    "        for attack_kind in attack_kinds:\n",
    "            self.skills.append(attack_kind)\n",
    "            \n",
    "    # 재정의된 메소드\n",
    "    def attack(self, other, attack_kind):\n",
    "        if attack_kind in self.skills:\n",
    "            other.get_damage(self.power, attack_kind)\n",
    "            \n",
    "    def get_damage(self, power, attack_kind):\n",
    "        \"\"\"\n",
    "        만약 공격 종류가 플레이어의 공격중 하나라면 피해가 절반으로 감소한다.\n",
    "        \"\"\"\n",
    "        if attack_kind in self.skills:\n",
    "            self.hp -= power/2\n",
    "        else:\n",
    "            self.hp -= power "
   ]
  },
  {
   "cell_type": "markdown",
   "metadata": {},
   "source": [
    "Monster, IceMonster, FireMonster Class"
   ]
  },
  {
   "cell_type": "code",
   "execution_count": 24,
   "metadata": {},
   "outputs": [],
   "source": [
    "class Monster(Character):\n",
    "    def __init__(self, name, hp, power):\n",
    "        super().__init__(name, hp, power)\n",
    "        self.attack_kind = 'None' # 추가된 인스턴스 멤버\n",
    "    \n",
    "    # 메소드 오버라이딩\n",
    "    def attack(self, other, attack_kind): # 공격 종류가 몬스터의 속성과 같다면 공격 \n",
    "        if self.attack_kind == attack_kind:\n",
    "            other.get_damage(self.power, attack_kind)\n",
    "            \n",
    "    # 플레이어가 불 공격을 할 떄\n",
    "    # 공격받는 객체가 얼음 몬스터라면 체력이 깎이고\n",
    "    # 공격받는 객체가 불 몬스터라면 오히려 체력이 늘어난다\n",
    "    def get_damage(self, power, attack_kind):\n",
    "        if self.attack_kind == attack_kind:\n",
    "            self.hp += power \n",
    "        else:\n",
    "            self.hp -= power\n",
    "    \n",
    "    def get_attack_kind(self):\n",
    "        return self.attack_kind"
   ]
  },
  {
   "cell_type": "code",
   "execution_count": 25,
   "metadata": {},
   "outputs": [],
   "source": [
    "class IceMonster(Monster):\n",
    "    def __init__(self, name='Ice Monster', hp=50, power=10):\n",
    "        super().__init__(name, hp, power)\n",
    "        self.attack_kind = 'ICE'\n",
    "\n",
    "class FireMonster(Monster):\n",
    "    def __init__(self, name='Fire Monster', hp=50, power=20):\n",
    "        super().__init__(name, hp, power)\n",
    "        self.attack_kind = 'FIRE'\n",
    "    \n",
    "    # 메서드 추가\n",
    "    def fireball(self):\n",
    "        print('fireballl')"
   ]
  },
  {
   "cell_type": "markdown",
   "metadata": {},
   "source": [
    "메인 메소드"
   ]
  },
  {
   "cell_type": "code",
   "execution_count": 26,
   "metadata": {},
   "outputs": [
    {
     "name": "stdout",
     "output_type": "stream",
     "text": [
      "Ice Monster HP: 50\n",
      "Fire Monster HP: 50\n",
      "========After the player attacked=========\n",
      "Ice Monster HP: 80\n",
      "Fire Monster HP: 20\n",
      "\n",
      "SooAI HP: 100\n",
      "=======After monsters attacked=======\n",
      "SooAI HP: 75.0\n"
     ]
    }
   ],
   "source": [
    "# 플레이어 생성\n",
    "player = Player('SooAI', 100, 30,'ICE')\n",
    "\n",
    "# 몬스터 생성\n",
    "monsters = []\n",
    "monsters.append(IceMonster())\n",
    "monsters.append(FireMonster())\n",
    "\n",
    "for monster in monsters:\n",
    "    print(monster)\n",
    "\n",
    "for monster in monsters:\n",
    "    player.attack(monster, 'ICE')\n",
    "    \n",
    "print('========After the player attacked=========')\n",
    "\n",
    "for monster in monsters:\n",
    "    print(monster)\n",
    "print('')\n",
    "\n",
    "print(player)\n",
    "\n",
    "for monster in monsters:\n",
    "    monster.attack(player, monster.get_attack_kind())\n",
    "\n",
    "print('=======After monsters attacked=======')\n",
    "print(player)\n"
   ]
  },
  {
   "cell_type": "code",
   "execution_count": null,
   "metadata": {},
   "outputs": [],
   "source": []
  },
  {
   "cell_type": "code",
   "execution_count": null,
   "metadata": {},
   "outputs": [],
   "source": []
  }
 ],
 "metadata": {
  "kernelspec": {
   "display_name": "Python 3",
   "language": "python",
   "name": "python3"
  },
  "language_info": {
   "codemirror_mode": {
    "name": "ipython",
    "version": 3
   },
   "file_extension": ".py",
   "mimetype": "text/x-python",
   "name": "python",
   "nbconvert_exporter": "python",
   "pygments_lexer": "ipython3",
   "version": "3.6.6"
  }
 },
 "nbformat": 4,
 "nbformat_minor": 2
}
