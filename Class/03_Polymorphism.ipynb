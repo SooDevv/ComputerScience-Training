{
 "cells": [
  {
   "cell_type": "markdown",
   "metadata": {},
   "source": [
    "## 다형성\n",
    "상속 관계에 있는 다양한 클래스의 객체에서 같은 이름의 메서드를 호출할 때 <br>\n",
    "각 개체가 서로 다르게 구현된 메서드를 호출함으로써 <br>\n",
    "서로 다른 행동, 기능, 결과를 가져오는 것 \n",
    "<br>\n",
    "즉, 같은 이름의 메서드를 호출해도 호출한 객체에 따라 다른 결과를 내는것을 다형성"
   ]
  },
  {
   "cell_type": "code",
   "execution_count": 2,
   "metadata": {},
   "outputs": [],
   "source": [
    "class Animal:\n",
    "    def eat(self):\n",
    "        print('eat something')\n",
    "        \n",
    "class Lion(Animal):\n",
    "    def eat(self):\n",
    "        print('eat meat')\n",
    "\n",
    "class Deer(Animal):\n",
    "    def eat(self):\n",
    "        print('eat grass')\n",
    "        \n",
    "class Human(Animal):\n",
    "    def eat(self):\n",
    "        print('eat meat and grass')"
   ]
  },
  {
   "cell_type": "markdown",
   "metadata": {},
   "source": [
    "메인 메소드"
   ]
  },
  {
   "cell_type": "code",
   "execution_count": 3,
   "metadata": {},
   "outputs": [
    {
     "name": "stdout",
     "output_type": "stream",
     "text": [
      "eat meat\n",
      "eat grass\n",
      "eat meat and grass\n"
     ]
    }
   ],
   "source": [
    "animals = []\n",
    "animals.append(Lion())\n",
    "animals.append(Deer())\n",
    "animals.append(Human())\n",
    "\n",
    "for animal in animals:\n",
    "    animal.eat()"
   ]
  },
  {
   "cell_type": "markdown",
   "metadata": {},
   "source": [
    "각각의 객체는 자신의 클래스에 오버라이딩된 메소드를 호출하여 다른 기능을 수행한다. <br>\n",
    "Animal 의 인스턴스를 애초에 만들지 못하게 하기 위해서(eat something 이 없으므로) 추상 클래스로 만든다 <br>"
   ]
  },
  {
   "cell_type": "code",
   "execution_count": 4,
   "metadata": {},
   "outputs": [],
   "source": [
    "from abc import *\n",
    "\n",
    "class Animal(metaclass = ABCMeta):\n",
    "    @abstractmethod\n",
    "    def eat(self):\n",
    "        pass"
   ]
  },
  {
   "cell_type": "code",
   "execution_count": 5,
   "metadata": {},
   "outputs": [
    {
     "name": "stdout",
     "output_type": "stream",
     "text": [
      "eat meat\n",
      "eat grass\n",
      "eat meat and grass\n"
     ]
    }
   ],
   "source": [
    "animals = []\n",
    "animals.append(Lion())\n",
    "animals.append(Deer())\n",
    "animals.append(Human())\n",
    "\n",
    "for animal in animals:\n",
    "    animal.eat()"
   ]
  },
  {
   "cell_type": "code",
   "execution_count": 6,
   "metadata": {},
   "outputs": [
    {
     "ename": "TypeError",
     "evalue": "Can't instantiate abstract class Animal with abstract methods eat",
     "output_type": "error",
     "traceback": [
      "\u001b[1;31m---------------------------------------------------------------------------\u001b[0m",
      "\u001b[1;31mTypeError\u001b[0m                                 Traceback (most recent call last)",
      "\u001b[1;32m<ipython-input-6-2a6156927c44>\u001b[0m in \u001b[0;36m<module>\u001b[1;34m()\u001b[0m\n\u001b[1;32m----> 1\u001b[1;33m \u001b[0ma\u001b[0m \u001b[1;33m=\u001b[0m \u001b[0mAnimal\u001b[0m\u001b[1;33m(\u001b[0m\u001b[1;33m)\u001b[0m\u001b[1;33m\u001b[0m\u001b[0m\n\u001b[0m",
      "\u001b[1;31mTypeError\u001b[0m: Can't instantiate abstract class Animal with abstract methods eat"
     ]
    }
   ],
   "source": [
    "# Animal 객체를 만들 수 없다! \n",
    "a = Animal()"
   ]
  }
 ],
 "metadata": {
  "kernelspec": {
   "display_name": "Python 3",
   "language": "python",
   "name": "python3"
  },
  "language_info": {
   "codemirror_mode": {
    "name": "ipython",
    "version": 3
   },
   "file_extension": ".py",
   "mimetype": "text/x-python",
   "name": "python",
   "nbconvert_exporter": "python",
   "pygments_lexer": "ipython3",
   "version": "3.6.6"
  }
 },
 "nbformat": 4,
 "nbformat_minor": 2
}
