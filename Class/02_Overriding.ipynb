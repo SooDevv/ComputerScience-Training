{
 "cells": [
  {
   "cell_type": "markdown",
   "metadata": {},
   "source": [
    "## 오버라이딩\n",
    "파생 클래스(자식 클래스) 안에서 상속받은 메서드를 다시 구현하는 것을 메소드 오버라이딩"
   ]
  },
  {
   "cell_type": "code",
   "execution_count": 1,
   "metadata": {},
   "outputs": [],
   "source": [
    "class CarOwner:\n",
    "    def __init__(self, name):\n",
    "        self.name = name\n",
    "    def concentrate(self):\n",
    "        print('{} 운전에 초 집중 중!! 다른 일 못함'.format(self.name))"
   ]
  },
  {
   "cell_type": "code",
   "execution_count": 10,
   "metadata": {},
   "outputs": [],
   "source": [
    "class Car:\n",
    "    def __init__(self,owner_name):\n",
    "        self.owner = CarOwner(owner_name)\n",
    "    def drive(self):\n",
    "        self.owner.concentrate()\n",
    "        print('{} is driving now'.format(self.owner.name))"
   ]
  },
  {
   "cell_type": "code",
   "execution_count": 3,
   "metadata": {},
   "outputs": [],
   "source": [
    "class SelfDrivingCar(Car):\n",
    "    def drive(self):\n",
    "        print('나는야 자율 주행차')"
   ]
  },
  {
   "cell_type": "markdown",
   "metadata": {},
   "source": [
    "메인 메소드"
   ]
  },
  {
   "cell_type": "code",
   "execution_count": 11,
   "metadata": {},
   "outputs": [
    {
     "name": "stdout",
     "output_type": "stream",
     "text": [
      "수정 빠방 운전에 초 집중 중!! 다른 일 못함\n",
      "수정 빠방 is driving now\n",
      "\n",
      "나는야 자율 주행차\n"
     ]
    }
   ],
   "source": [
    "car = Car('수정 빠방')\n",
    "car.drive()\n",
    "print('')\n",
    "\n",
    "self_car = SelfDrivingCar('John')\n",
    "self_car.drive()"
   ]
  }
 ],
 "metadata": {
  "kernelspec": {
   "display_name": "Python 3",
   "language": "python",
   "name": "python3"
  },
  "language_info": {
   "codemirror_mode": {
    "name": "ipython",
    "version": 3
   },
   "file_extension": ".py",
   "mimetype": "text/x-python",
   "name": "python",
   "nbconvert_exporter": "python",
   "pygments_lexer": "ipython3",
   "version": "3.6.6"
  }
 },
 "nbformat": 4,
 "nbformat_minor": 2
}
