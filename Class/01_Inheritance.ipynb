{
 "cells": [
  {
   "cell_type": "markdown",
   "metadata": {},
   "source": [
    "### 상속 \n",
    "IS-A : 상속\n",
    "- 기본 클래스의 모든 멤버와 메서드를 가지면서 자신만의 멤버 혹은 메서드를 가지는 클래스가 있다면 상속\n",
    "\n",
    "HAS-A : 합성 또는 통합\n",
    "- 합성 : 객체의 생명주기가 같은 것처럼 객체간의 강한 관계를 맺고 있다면 합성\n",
    "- 통합 : 생명주기를 함꼐 하지 않는 상대적으로 약한 관계인데 이러한 관계를 통합"
   ]
  },
  {
   "cell_type": "markdown",
   "metadata": {},
   "source": [
    "### IS-A"
   ]
  },
  {
   "cell_type": "code",
   "execution_count": 1,
   "metadata": {},
   "outputs": [],
   "source": [
    "class Computer:\n",
    "    def __init__(self, cpu, ram):\n",
    "        self.CPU = cpu\n",
    "        self.RAM = ram\n",
    "    def browse(self):\n",
    "        print('browse')\n",
    "    def work(self):\n",
    "        print('work')"
   ]
  },
  {
   "cell_type": "code",
   "execution_count": 3,
   "metadata": {},
   "outputs": [],
   "source": [
    "class Laptop(Computer):\n",
    "    def __init__(self, cpu, ram, battery):\n",
    "        super().__init__(cpu, ram)\n",
    "        self.battery = battery\n",
    "    def move(self, to):\n",
    "        print('move to {}'.format(to))"
   ]
  },
  {
   "cell_type": "markdown",
   "metadata": {},
   "source": [
    "메인 메소드"
   ]
  },
  {
   "cell_type": "code",
   "execution_count": 4,
   "metadata": {},
   "outputs": [
    {
     "name": "stdout",
     "output_type": "stream",
     "text": [
      "browse\n",
      "work\n",
      "move to office\n"
     ]
    }
   ],
   "source": [
    "lap = Laptop('intel', 8, 'powerful')\n",
    "lap.browse()\n",
    "lap.work()\n",
    "lap.move('office')"
   ]
  },
  {
   "cell_type": "markdown",
   "metadata": {},
   "source": [
    "---"
   ]
  },
  {
   "cell_type": "markdown",
   "metadata": {},
   "source": [
    "### HAS-A"
   ]
  },
  {
   "cell_type": "markdown",
   "metadata": {},
   "source": [
    "합성\n",
    "- Computer 객체와 CPU 객체는 객체의 생명주기가 같고 컴퓨터가 CPU를 소유하고 있다 \n",
    "즉 굉장히 강한 관계"
   ]
  },
  {
   "cell_type": "code",
   "execution_count": 5,
   "metadata": {},
   "outputs": [],
   "source": [
    "class CPU:\n",
    "    pass\n",
    "class RAM:\n",
    "    pass\n",
    "class Computer:\n",
    "    def __init__(self):\n",
    "        self.cpu = CPU()\n",
    "        self.ram = RAM()"
   ]
  },
  {
   "cell_type": "markdown",
   "metadata": {},
   "source": [
    "통합"
   ]
  },
  {
   "cell_type": "code",
   "execution_count": 6,
   "metadata": {},
   "outputs": [],
   "source": [
    "class Gun:\n",
    "    def __init__(self,kind):\n",
    "        self.kind = kind\n",
    "    def bang(self):\n",
    "        print('빵야 빵야')\n",
    "    \n",
    "class Police:\n",
    "    def __init__(self):\n",
    "        self.gun = None\n",
    "    def get_gun(self, gun):\n",
    "        self.gun = gun\n",
    "    def release_gun(self):\n",
    "        gun = self.gun\n",
    "        self.gun = None\n",
    "        return gun\n",
    "    def shoot(self):\n",
    "        if self.gun:\n",
    "            self.gun.bang()\n",
    "        else:\n",
    "            print('Unable to shoot')"
   ]
  },
  {
   "cell_type": "markdown",
   "metadata": {},
   "source": [
    "메인 메소드"
   ]
  },
  {
   "cell_type": "code",
   "execution_count": 7,
   "metadata": {},
   "outputs": [
    {
     "name": "stdout",
     "output_type": "stream",
     "text": [
      "p1 shoot!\n",
      "Unable to shoot\n",
      "\n",
      "p1 shoot after get gun\n",
      "빵야 빵야\n",
      "\n",
      "p1 shoot again\n",
      "Unable to shoot\n"
     ]
    }
   ],
   "source": [
    "p1 = Police()\n",
    "print('p1 shoot!')\n",
    "p1.shoot()\n",
    "print()\n",
    "\n",
    "# get gun\n",
    "revolver = Gun('Revolver')\n",
    "p1.get_gun(revolver)\n",
    "revolver = None # p1 이 총을 소유하므로 revolver 는 None 이 된다 \n",
    "print('p1 shoot after get gun')\n",
    "p1.shoot()\n",
    "print()\n",
    "\n",
    "# release gun\n",
    "revolver = p1.release_gun() #return gun\n",
    "print('p1 shoot again')\n",
    "p1.shoot()"
   ]
  }
 ],
 "metadata": {
  "kernelspec": {
   "display_name": "Python 3",
   "language": "python",
   "name": "python3"
  },
  "language_info": {
   "codemirror_mode": {
    "name": "ipython",
    "version": 3
   },
   "file_extension": ".py",
   "mimetype": "text/x-python",
   "name": "python",
   "nbconvert_exporter": "python",
   "pygments_lexer": "ipython3",
   "version": "3.6.6"
  }
 },
 "nbformat": 4,
 "nbformat_minor": 2
}
