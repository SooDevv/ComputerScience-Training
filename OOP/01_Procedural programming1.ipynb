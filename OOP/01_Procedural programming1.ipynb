{
 "cells": [
  {
   "cell_type": "markdown",
   "metadata": {},
   "source": [
    "### 절차 지향으로 학급 성적 평가 프로그램 만들기\n",
    "- 함수 지향형 프로그램을 구현하기 전에 함수를 정의하지 않고 그냥 짜보기\n",
    "![image](https://user-images.githubusercontent.com/33097467/45279655-cb4f3180-b50c-11e8-810a-446744bb976b.png)\n"
   ]
  },
  {
   "cell_type": "code",
   "execution_count": 1,
   "metadata": {},
   "outputs": [],
   "source": [
    "import openpyxl\n",
    "import math"
   ]
  },
  {
   "cell_type": "code",
   "execution_count": 2,
   "metadata": {},
   "outputs": [],
   "source": [
    "raw_data = {}\n",
    "wb = openpyxl.load_workbook('class1.xlsx')\n",
    "ws = wb.active\n",
    "g = ws.rows"
   ]
  },
  {
   "cell_type": "code",
   "execution_count": 3,
   "metadata": {},
   "outputs": [],
   "source": [
    "for name, score in g:\n",
    "    raw_data[name.value] = score.value"
   ]
  },
  {
   "cell_type": "code",
   "execution_count": 4,
   "metadata": {},
   "outputs": [
    {
     "data": {
      "text/plain": [
       "{'greg': 95,\n",
       " 'john': 25,\n",
       " 'yang': 50,\n",
       " 'timothy': 15,\n",
       " 'melisa': 100,\n",
       " 'thor': 10,\n",
       " 'elen': 25,\n",
       " 'mark': 80,\n",
       " 'steve': 95,\n",
       " 'anna': 20}"
      ]
     },
     "execution_count": 4,
     "metadata": {},
     "output_type": "execute_result"
    }
   ],
   "source": [
    "raw_data"
   ]
  },
  {
   "cell_type": "code",
   "execution_count": 5,
   "metadata": {},
   "outputs": [
    {
     "data": {
      "text/plain": [
       "[95, 25, 50, 15, 100, 10, 25, 80, 95, 20]"
      ]
     },
     "execution_count": 5,
     "metadata": {},
     "output_type": "execute_result"
    }
   ],
   "source": [
    "scores = list(raw_data.values())\n",
    "scores"
   ]
  },
  {
   "cell_type": "markdown",
   "metadata": {},
   "source": [
    "평균 구하기"
   ]
  },
  {
   "cell_type": "code",
   "execution_count": 6,
   "metadata": {},
   "outputs": [
    {
     "data": {
      "text/plain": [
       "51.5"
      ]
     },
     "execution_count": 6,
     "metadata": {},
     "output_type": "execute_result"
    }
   ],
   "source": [
    "s = 0\n",
    "for score in scores:\n",
    "    s += score\n",
    "avrg = round(s/len(scores),1) # 소수점 첫째자리까지 표시 \n",
    "avrg"
   ]
  },
  {
   "cell_type": "markdown",
   "metadata": {},
   "source": [
    "분산 구하기"
   ]
  },
  {
   "cell_type": "code",
   "execution_count": 7,
   "metadata": {},
   "outputs": [],
   "source": [
    "s = 0\n",
    "for score in scores:\n",
    "    s += (score-avrg) ** 2\n",
    "variance = round(s/len(scores), 1)\n",
    "std_dev = round(math.sqrt(variance),1)"
   ]
  },
  {
   "cell_type": "code",
   "execution_count": 8,
   "metadata": {},
   "outputs": [
    {
     "name": "stdout",
     "output_type": "stream",
     "text": [
      "평균 : 51.5, 분산 : 1240.2, 표준편차 : 35.2\n"
     ]
    }
   ],
   "source": [
    "print(\"평균 : {0}, 분산 : {1}, 표준편차 : {2}\".format(avrg, variance, std_dev))"
   ]
  },
  {
   "cell_type": "markdown",
   "metadata": {},
   "source": [
    "평가"
   ]
  },
  {
   "cell_type": "code",
   "execution_count": 9,
   "metadata": {},
   "outputs": [
    {
     "name": "stdout",
     "output_type": "stream",
     "text": [
      "성적은 평균 이상이지만 학생들의 실력 차이가 크다. 주의요망!\n"
     ]
    }
   ],
   "source": [
    "if avrg < 50 and std_dev > 20:\n",
    "    print(\"성적이 너무 저조하고 학생들의 실력 차이가 너무 크다.\")\n",
    "elif avrg > 50 and std_dev > 20:\n",
    "    print(\"성적은 평균 이상이지만 학생들의 실력 차이가 크다. 주의요망!\")\n",
    "elif avrg < 50 and std_dev < 20:\n",
    "    print(\"학생들의 실력 차이는 크지 않지만 성적이 너무 저조하다. 내가 못가르치는 것이 아닐까?\")\n",
    "elif avrg > 50 and std_dev < 20:\n",
    "    print(\"성적도 평균 이상이고 학생들의 실력 차이도 크지 않다. 나 좀 잘 가르치는 듯 후후 \")"
   ]
  },
  {
   "cell_type": "markdown",
   "metadata": {},
   "source": [
    "---"
   ]
  },
  {
   "cell_type": "markdown",
   "metadata": {},
   "source": [
    "### 절차 지향으로 프로그래밍 해보기\n",
    "- 기능별로 쪼개 함수로 만든다\n",
    "- 같은 기능이 필요할 떄 코드를 재사용할 수 있다"
   ]
  },
  {
   "cell_type": "markdown",
   "metadata": {},
   "source": [
    "엑셀로부터 데이터 가져오는 함수"
   ]
  },
  {
   "cell_type": "code",
   "execution_count": 10,
   "metadata": {},
   "outputs": [],
   "source": [
    "def get_data_from_excel(filename):\n",
    "    \"\"\"\n",
    "    get_data_from_excel(filename) -> {'name1':'score1', 'name2':'score2'}\n",
    "    엑셀 파일에서 데이터를 가져옵니다\n",
    "    retrun dict(key:학생이름, value:점수)\n",
    "    \"\"\"\n",
    "    dic = {}\n",
    "    wb = openpyxl.load_workbook('class1.xlsx')\n",
    "    ws = wb.active\n",
    "    g = ws.rows\n",
    "    \n",
    "    for name, score in g:\n",
    "        dic[name.value] = score.value\n",
    "    \n",
    "    return dic"
   ]
  },
  {
   "cell_type": "markdown",
   "metadata": {},
   "source": [
    "평균, 분산, 표준편차 구하는 함수정의"
   ]
  },
  {
   "cell_type": "code",
   "execution_count": 11,
   "metadata": {},
   "outputs": [],
   "source": [
    "def average(scores):\n",
    "    total = 0\n",
    "    for score in scores:\n",
    "        total += score\n",
    "    return round(total/len(scores),1)"
   ]
  },
  {
   "cell_type": "code",
   "execution_count": 12,
   "metadata": {},
   "outputs": [],
   "source": [
    "def variance(scores, avrg):\n",
    "    total = 0\n",
    "    for score in scores:\n",
    "        total += (score - avrg) ** 2\n",
    "    return round(total/len(scores), 1)"
   ]
  },
  {
   "cell_type": "code",
   "execution_count": 13,
   "metadata": {},
   "outputs": [],
   "source": [
    "def std_dev(variance):\n",
    "    return round(math.sqrt(variance),1)"
   ]
  },
  {
   "cell_type": "markdown",
   "metadata": {},
   "source": [
    "구한 점수를 바탕으로 수업 평가 내리는 함수"
   ]
  },
  {
   "cell_type": "code",
   "execution_count": 14,
   "metadata": {},
   "outputs": [],
   "source": [
    "def evaluateClass(avrg, total_avrg, std_dev, sd):\n",
    "    \"\"\"\n",
    "    evaluateClass(avrt, total_avrg, std_dev, sd) -> None\n",
    "    avrg : 반 성적 평균\n",
    "    total_avrg : 학년 전체 성적 평균\n",
    "    std_dev : 반의 표준편차\n",
    "    sd : 원하는 표준편차 기준\n",
    "    \"\"\"\n",
    "    if avrg < total_avrg and std_dev > sd:\n",
    "        print(\"성적이 너무 저조하고 학생들의 실력 차이가 너무 크다.\")\n",
    "    elif avrg > total_avrg and std_dev > sd:\n",
    "        print(\"성적은 평균 이상이지만 학생들의 실력 차이가 너무크다. 잘하는애들은 잘하고 못하는 애들은 못하고\")\n",
    "    elif avrg < total_avrg and std_dev < sd:\n",
    "        print(\"학생들의 실력 차이는 크지 않지만 성적이 너무 저조하다. 내가 못가르치는게 아닌지 돌아볼 것 후후\")\n",
    "    elif avrg > total_avrg and std_dev < sd:\n",
    "        print(\"성적도 평균 이상이고 학생들의 실력 차이도 크지 않다. 나 좀 짱인듯 !! ^^77\")"
   ]
  },
  {
   "cell_type": "markdown",
   "metadata": {},
   "source": [
    "메인 프로그램 "
   ]
  },
  {
   "cell_type": "code",
   "execution_count": 15,
   "metadata": {},
   "outputs": [
    {
     "name": "stdout",
     "output_type": "stream",
     "text": [
      "평균: 51.5 \n",
      "분산: 1240.2 \n",
      "표준편차:35.2\n",
      "성적은 평균 이상이지만 학생들의 실력 차이가 너무크다. 잘하는애들은 잘하고 못하는 애들은 못하고\n"
     ]
    }
   ],
   "source": [
    "raw_data = get_data_from_excel('class1.xlsx')\n",
    "scores = list(raw_data.values())\n",
    "\n",
    "avrg = average(scores)\n",
    "variance = variance(scores,avrg)\n",
    "standard_deviation = std_dev(variance)\n",
    "\n",
    "print(\"평균: {0} \\n분산: {1} \\n표준편차:{2}\".format(avrg, variance, standard_deviation))\n",
    "evaluateClass(avrg, 40, standard_deviation, 20)"
   ]
  }
 ],
 "metadata": {
  "kernelspec": {
   "display_name": "Python 3",
   "language": "python",
   "name": "python3"
  },
  "language_info": {
   "codemirror_mode": {
    "name": "ipython",
    "version": 3
   },
   "file_extension": ".py",
   "mimetype": "text/x-python",
   "name": "python",
   "nbconvert_exporter": "python",
   "pygments_lexer": "ipython3",
   "version": "3.6.6"
  }
 },
 "nbformat": 4,
 "nbformat_minor": 2
}
